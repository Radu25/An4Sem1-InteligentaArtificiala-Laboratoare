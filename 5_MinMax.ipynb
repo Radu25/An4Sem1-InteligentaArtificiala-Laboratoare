{
  "nbformat": 4,
  "nbformat_minor": 0,
  "metadata": {
    "colab": {
      "provenance": [],
      "include_colab_link": true
    },
    "kernelspec": {
      "name": "python3",
      "display_name": "Python 3"
    },
    "language_info": {
      "name": "python"
    }
  },
  "cells": [
    {
      "cell_type": "markdown",
      "metadata": {
        "id": "view-in-github",
        "colab_type": "text"
      },
      "source": [
        "<a href=\"https://colab.research.google.com/github/Radu25/An4Sem1-InteligentaArtificiala-Laboratoare/blob/main/5_MinMax.ipynb\" target=\"_parent\"><img src=\"https://colab.research.google.com/assets/colab-badge.svg\" alt=\"Open In Colab\"/></a>"
      ]
    },
    {
      "cell_type": "markdown",
      "source": [
        "# MinMax"
      ],
      "metadata": {
        "id": "R9UpMD7kuWMs"
      }
    },
    {
      "cell_type": "markdown",
      "source": [
        "MinMax este un algoritm de luare a deciziilor pentru diferite sisteme de inteligență artificială. Ideea pe care se bazează algoritmul MinMax este acceea de maximizare a câștigului minim.\n",
        "\n",
        "Valoarea maximin reprezintă cea mai ridicată valoare pe care un agent o poate obține fără a ști acțiunile celuilalt jucător. \n",
        "\n",
        "Cum se aplică MinMax?\n",
        "1. se definesc 2 jucători: MAX - cel care are ca scop maximizarea rezultatului jocului, și MIN - cel care are ca scop minimizarea rezultatului jocului.\n",
        "2. se reprezintă jocul sub forma unui arbore din perspectiva jucătorului MAX. Frunzele arborelui vor reprezenta valorile diferitelor situatii finale ale jocului. Aceste valori le definim in funcție de problemă. Exemplu:\n",
        "  * victorie MAX: 100 - adancimea arborelui\n",
        "  * victorie MIN: -100 + adancimea arborelui\n",
        "  * remiza: 0 - adancimea arborelui\n",
        "\n",
        "3. Scopul jucatorului MAX: sa dirijeze jocul înspre frunzele cu valori maxime.\n",
        "4. Scopul jucatorului MIN: sa dirijeze jocul înspre frunzele cu valori minime. Jucătorul MIN este o reprezentare a adversarului. Presupunem deci că adversarul va lua întotdeauna deciziile cele mai bune pentru el.\n",
        "5. Cum decidem pe ce ramură va înainta jocul? Pornim de la frunze, și, în funcție de perspectiva din care urmează să luăm decizia (MIN sau MAX) alegem pe care ramură să înaintăm.\n",
        "\n",
        "\n",
        "Un exemplu de aplicare a MinMax pe un arbore de mici dimensiuni găsiți [aici](https://www.youtube.com/watch?v=STjW3eH0Cik&t=970s).\n",
        "\n",
        "\n"
      ],
      "metadata": {
        "id": "wkeauRqwuYEM"
      }
    },
    {
      "cell_type": "markdown",
      "source": [
        "## Aplicație: X și O\n",
        "1. Implementați funcția *check_win*.\n",
        "2. Imbunatatiti modul de joc al agentului artificial, utilizând algoritmul MinMax. \n",
        "3. BONUS: Analizați **soluția propusă** la și propuneți îmbunătățiri."
      ],
      "metadata": {
        "id": "6ic9DD6Fu6uF"
      }
    },
    {
      "cell_type": "code",
      "execution_count": null,
      "metadata": {
        "id": "u68XEmctuQtT"
      },
      "outputs": [],
      "source": [
        "EMPTY = \" \"\n",
        "X = \"X\"\n",
        "O = \"0\"\n",
        "N = 3\n",
        "playground = [[EMPTY for i in range(N)] for j in range(N)]\n",
        " \n",
        " \n",
        "def move(CH, lin, col):\n",
        "  if lin < 0 or lin >= N or col < 0 or col >= N:\n",
        "    return False\n",
        " \n",
        "  if playground[lin][col] == EMPTY:\n",
        "    playground[lin][col] = CH\n",
        "    return True\n",
        " \n",
        "  return False\n",
        " \n",
        "def agent_move(O):\n",
        "  for i in range(N):\n",
        "    for j in range(N):\n",
        "      if move(O, i, j):\n",
        "        return\n",
        " \n",
        " \n",
        "def check_win():\n",
        "  # print the winning player\n",
        "  pass #return True when game over\n",
        " \n",
        "game_over = False\n",
        " \n",
        "while not game_over:\n",
        "  lin = int(input(\"Linia = \"))\n",
        "  col = int(input(\"Coloana = \"))\n",
        "  move(X, lin, col)\n",
        " \n",
        "  agent_move(O)\n",
        " \n",
        "  game_over = check_win()\n",
        " \n",
        "  for line in playground:\n",
        "    print(line)"
      ]
    },
    {
      "cell_type": "markdown",
      "source": [
        "## Solutie propusă"
      ],
      "metadata": {
        "id": "QuMcUvPPutIu"
      }
    },
    {
      "cell_type": "code",
      "source": [
        "import copy\n",
        "import numpy as np\n",
        " \n",
        "EMPTY = \" \"\n",
        "X = \"X\"\n",
        "O = \"0\"\n",
        "N = 3\n",
        "\n",
        "def move(CH, lin, col, playground):\n",
        "  if lin < 0 or lin >= N or col < 0 or col >= N:\n",
        "    return False\n",
        " \n",
        "  if playground[lin][col] == EMPTY:\n",
        "    playground[lin][col] = CH\n",
        "    return True\n",
        " \n",
        "  return False \n",
        "\n",
        "def doMove(CH, move, board):\n",
        "  if move[0] < 0 or move[0] >= N or move[1] < 0 or move[1] >= N:\n",
        "    return False\n",
        " \n",
        "  if board[move[0]][move[1]] == EMPTY:\n",
        "    board[move[0]][move[1]] = CH\n",
        "    return True\n",
        " \n",
        "  return False\n",
        " \n",
        "def undoMove(move, board):\n",
        "  if move[0] < 0 or move[0] >= N or move[1] < 0 or move[1] >= N:\n",
        "    return False\n",
        " \n",
        "  board[move[0]][move[1]] = EMPTY\n",
        " \n",
        "def possibleMoves(board):\n",
        "  moves = []\n",
        "  for i in range(N):\n",
        "    for j in range(N):\n",
        "      if board[i][j] == EMPTY:\n",
        "        moves.append((i,j))\n",
        "  return moves\n",
        " \n",
        "def evaluate(board, depth = 0, isMaximizingPlayer = False):\n",
        "  final, player = check_win(board)\n",
        "  if final:\n",
        "    if player == O:\n",
        "      return 100 - depth\n",
        "    elif player == EMPTY:\n",
        "      return -depth\n",
        "    else:\n",
        "      return -100 + depth\n",
        " \n",
        "  if isMaximizingPlayer:\n",
        "      evals = []\n",
        "      for move in possibleMoves(board):\n",
        "        doMove(O, move, board)\n",
        "        evals.append(evaluate(board, depth + 1, False))\n",
        "        undoMove(move, board)\n",
        "      bestVal = max(evals)\n",
        "  else:\n",
        "      evals = []\n",
        "      for move in possibleMoves(board):\n",
        "        doMove(X, move, board)\n",
        "        evals.append(evaluate(board, depth + 1, True))\n",
        "        undoMove(move, board)\n",
        "      bestVal = min(evals)\n",
        " \n",
        "  return bestVal\n",
        " \n",
        "def print_computed_values(moves, evals):\n",
        "  moves = { move : eval for move, eval in zip(moves, evals)}\n",
        "  for i in range(N):\n",
        "    for j in range(N):\n",
        "      if (i,j) in moves:\n",
        "        print(moves[(i,j)], end=\"\\t\")\n",
        "      else:\n",
        "        print('__', end=\"\\t\")\n",
        "    print()\n",
        "\n",
        "def agent_move(O, board):\n",
        "  best_move = None\n",
        "  moves = possibleMoves(board)\n",
        "  \n",
        "  evals = []\n",
        "  for move in possibleMoves(board):\n",
        "    doMove(O, move, board)\n",
        "    evals.append(evaluate(board, 0, False))\n",
        "    undoMove(move, board)\n",
        " \n",
        "  best_move = moves[np.argmax(evals)]\n",
        "  print_computed_values(moves, evals)\n",
        "  \n",
        "  doMove(O, best_move, board)\n",
        " \n",
        " \n",
        "def check_win(board):\n",
        "  for line in range(N):\n",
        "    if board[line][0] != EMPTY:\n",
        "      if board[line][0] == board[line][1] and board[line][1] == board[line][2]:\n",
        "        return (True, board[line][0])\n",
        " \n",
        "  for col in range(N):\n",
        "    if board[0][col] != EMPTY:\n",
        "      if board[0][col] == board[1][col] and board[1][col] == board[2][col]:\n",
        "        return (True, board[0][col])\n",
        " \n",
        "  if board[1][1] != EMPTY:\n",
        "    if (board[1][1] == board[0][0] and board[1][1] == board[2][2]) or \\\n",
        "    (board[0][2] == board[1][1] and board[2][0] == board[1][1]):\n",
        "        return (True, board[1][1])\n",
        "  if not possibleMoves(board):\n",
        "    return (True, EMPTY)\n",
        " \n",
        "  return (False, EMPTY)\n",
        " \n",
        "game_over = False\n",
        " \n",
        "playground = [[EMPTY for i in range(N)] for j in range(N)]\n",
        "\n",
        "while not game_over:\n",
        "  lin = int(input(\"Linia = \"))\n",
        "  col = int(input(\"Coloana = \"))\n",
        "\n",
        "  move(X, lin, col, playground)\n",
        "  game_over, _ = check_win(playground) # jocul se poate termina dupa mutarea utilizatorului\n",
        "  \n",
        "  if not game_over:\n",
        "    agent_move(O, playground)\n",
        "    game_over, _ = check_win(playground)\n",
        "  \n",
        "  for line in playground:\n",
        "    print(line)"
      ],
      "metadata": {
        "id": "7zSsWXM5upeu"
      },
      "execution_count": null,
      "outputs": []
    }
  ]
}